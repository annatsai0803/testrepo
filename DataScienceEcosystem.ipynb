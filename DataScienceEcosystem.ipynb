{
 "cells": [
  {
   "cell_type": "markdown",
   "id": "f7b04c1a-537d-4e01-9af7-cd2b5d9bccd5",
   "metadata": {},
   "source": [
    "| Data Science Tools    |\n",
    "|------------------------|\n",
    "| Jupyter Notebooks      |\n",
    "| RStudio                |\n",
    "| VS Code with Python    |"
   ]
  },
  {
   "cell_type": "markdown",
   "id": "d523f633-47a3-44cc-9432-585b7f93786f",
   "metadata": {},
   "source": [
    "# Data Science Tools and Ecosystem"
   ]
  },
  {
   "cell_type": "markdown",
   "id": "57dc0491-1305-4921-b1a9-72f9ec1d6e91",
   "metadata": {},
   "source": [
    "In this notebook, Data Science Tools and Ecosystem are summarized."
   ]
  },
  {
   "cell_type": "markdown",
   "id": "55218176-7d98-4d10-8579-d4395a5ef8c8",
   "metadata": {},
   "source": [
    "**Objectives:**\n",
    "\n",
    "- Introduce commonly used libraries in Data Science.\n",
    "- Explore open source tools used in Data Science development environments.\n",
    "- Create and execute simple arithmetic expressions in Python."
   ]
  },
  {
   "cell_type": "markdown",
   "id": "f403e0e4-6348-4c7f-9615-5eb8c052bdbc",
   "metadata": {},
   "source": [
    "Some of the popular languages that Data Scientists use are:\n",
    "\n",
    "1. Python\n",
    "2. R\n",
    "3. Julia"
   ]
  },
  {
   "cell_type": "markdown",
   "id": "916bf90b-d4d9-488b-a221-4dffa23e09f2",
   "metadata": {},
   "source": [
    "| Data Science Tools    |\n",
    "|-----------------------|\n",
    "| Jupyter Notebooks     |\n",
    "| RStudio               |\n",
    "| VS Code with Python   |"
   ]
  },
  {
   "cell_type": "markdown",
   "id": "3ae022ac-5be1-41d5-b3b1-73284afb13ea",
   "metadata": {},
   "source": [
    "### Below are a few examples of evaluating arithmetic expressions in Python."
   ]
  },
  {
   "cell_type": "code",
   "execution_count": 34,
   "id": "77f5ed2d-4dee-4e97-ae5d-c26edd7ba30a",
   "metadata": {},
   "outputs": [
    {
     "data": {
      "text/plain": [
       "17"
      ]
     },
     "execution_count": 34,
     "metadata": {},
     "output_type": "execute_result"
    }
   ],
   "source": [
    "# This is a simple arithmetic expression to multiply then add integers.\n",
    "(3 * 4) + 5"
   ]
  },
  {
   "cell_type": "code",
   "execution_count": 37,
   "id": "e4b3c4ef-f573-4b1c-a47b-cb6022030494",
   "metadata": {},
   "outputs": [
    {
     "data": {
      "text/plain": [
       "3.3333333333333335"
      ]
     },
     "execution_count": 37,
     "metadata": {},
     "output_type": "execute_result"
    }
   ],
   "source": [
    "# This will convert 200 minutes to hours by dividing by 60.\n",
    "minutes = 200\n",
    "hours = minutes / 60\n",
    "hours"
   ]
  },
  {
   "cell_type": "markdown",
   "id": "485ef231-3052-406f-bb1a-e0f93b965f78",
   "metadata": {},
   "source": [
    "## Author\n",
    "\n",
    "Meng-Yun, Tsai"
   ]
  },
  {
   "cell_type": "code",
   "execution_count": null,
   "id": "00c8d709-d46a-4b50-b5c1-1a4925d81222",
   "metadata": {},
   "outputs": [],
   "source": []
  }
 ],
 "metadata": {
  "kernelspec": {
   "display_name": "anaconda-panel-2023.05-py310",
   "language": "python",
   "name": "conda-env-anaconda-panel-2023.05-py310-py"
  },
  "language_info": {
   "codemirror_mode": {
    "name": "ipython",
    "version": 3
   },
   "file_extension": ".py",
   "mimetype": "text/x-python",
   "name": "python",
   "nbconvert_exporter": "python",
   "pygments_lexer": "ipython3",
   "version": "3.11.5"
  }
 },
 "nbformat": 4,
 "nbformat_minor": 5
}
